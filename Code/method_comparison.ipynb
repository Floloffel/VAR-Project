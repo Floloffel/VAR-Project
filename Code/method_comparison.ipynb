{
 "cells": [
  {
   "cell_type": "code",
   "execution_count": 1,
   "metadata": {},
   "outputs": [],
   "source": [
    "import pandas as pd\n",
    "import numpy as np\n",
    "import matplotlib.pyplot as plt\n",
    "import os\n",
    "\n",
    "from method_wrapper import method_wrapper"
   ]
  },
  {
   "cell_type": "code",
   "execution_count": 2,
   "metadata": {},
   "outputs": [
    {
     "name": "stdout",
     "output_type": "stream",
     "text": [
      "A10p\n",
      "../Raw Data/Applied Acoustics/A10p/HOA/\n",
      "beamforming TS: 24.345310773635607 TH: -6.013554069010725\n",
      "pseudo_intensity not working\n",
      "allrad_decoder TS: -5.999971353295513 TH: -6.297198641345218\n",
      "allrad2_decoder TS: -6.009815935211549 TH: -7.083932221339171\n",
      "mad_decoder TS: nan TH: nan\n",
      "\n",
      "A11p\n",
      "../Raw Data/Applied Acoustics/A11p/HOA/\n",
      "beamforming TS: 2.459691197061812 TH: -2.0593287018005486\n",
      "pseudo_intensity not working\n"
     ]
    },
    {
     "name": "stderr",
     "output_type": "stream",
     "text": [
      "c:\\Users\\fulbr\\OneDrive\\Documents\\01 Uni OneDrive\\11 WiSe 2324\\02 Virtuelle Akustik\\Projekt\\VAR-Project\\Code\\method_wrapper.py:19: RuntimeWarning: invalid value encountered in log10\n",
      "  TH = 20*np.log10((top)/(left + right + back))\n",
      "c:\\Users\\fulbr\\OneDrive\\Documents\\01 Uni OneDrive\\11 WiSe 2324\\02 Virtuelle Akustik\\Projekt\\VAR-Project\\Code\\method_wrapper.py:21: RuntimeWarning: invalid value encountered in log10\n",
      "  TS = 20*np.log10((top)/(left + right))\n"
     ]
    },
    {
     "name": "stdout",
     "output_type": "stream",
     "text": [
      "allrad_decoder TS: -5.999971353295513 TH: -6.297198641345218\n",
      "allrad2_decoder TS: -6.009815935211549 TH: -7.083932221339171\n",
      "mad_decoder TS: nan TH: nan\n",
      "\n",
      "A20p\n",
      "../Raw Data/Applied Acoustics/A20p/HOA/\n",
      "beamforming TS: 24.335415264546345 TH: -4.092893860198384\n",
      "pseudo_intensity not working\n"
     ]
    },
    {
     "name": "stderr",
     "output_type": "stream",
     "text": [
      "c:\\Users\\fulbr\\OneDrive\\Documents\\01 Uni OneDrive\\11 WiSe 2324\\02 Virtuelle Akustik\\Projekt\\VAR-Project\\Code\\method_wrapper.py:19: RuntimeWarning: invalid value encountered in log10\n",
      "  TH = 20*np.log10((top)/(left + right + back))\n",
      "c:\\Users\\fulbr\\OneDrive\\Documents\\01 Uni OneDrive\\11 WiSe 2324\\02 Virtuelle Akustik\\Projekt\\VAR-Project\\Code\\method_wrapper.py:21: RuntimeWarning: invalid value encountered in log10\n",
      "  TS = 20*np.log10((top)/(left + right))\n"
     ]
    },
    {
     "name": "stdout",
     "output_type": "stream",
     "text": [
      "allrad_decoder TS: -5.999971353295513 TH: -6.297198641345218\n",
      "allrad2_decoder TS: -6.009815935211549 TH: -7.083932221339171\n",
      "mad_decoder TS: nan TH: nan\n",
      "\n",
      "A21p\n",
      "../Raw Data/Applied Acoustics/A21p/HOA/\n",
      "beamforming TS: 5.948817827934816 TH: 0.07086301082710883\n",
      "pseudo_intensity not working\n"
     ]
    },
    {
     "name": "stderr",
     "output_type": "stream",
     "text": [
      "c:\\Users\\fulbr\\OneDrive\\Documents\\01 Uni OneDrive\\11 WiSe 2324\\02 Virtuelle Akustik\\Projekt\\VAR-Project\\Code\\method_wrapper.py:19: RuntimeWarning: invalid value encountered in log10\n",
      "  TH = 20*np.log10((top)/(left + right + back))\n",
      "c:\\Users\\fulbr\\OneDrive\\Documents\\01 Uni OneDrive\\11 WiSe 2324\\02 Virtuelle Akustik\\Projekt\\VAR-Project\\Code\\method_wrapper.py:21: RuntimeWarning: invalid value encountered in log10\n",
      "  TS = 20*np.log10((top)/(left + right))\n"
     ]
    },
    {
     "name": "stdout",
     "output_type": "stream",
     "text": [
      "allrad_decoder TS: -5.999971353295513 TH: -6.297198641345218\n",
      "allrad2_decoder TS: -6.009815935211549 TH: -7.083932221339171\n",
      "mad_decoder TS: nan TH: nan\n",
      "\n",
      "A30p\n",
      "../Raw Data/Applied Acoustics/A30p/HOA/\n",
      "beamforming TS: -6.164579443408352 TH: 2.1976843466043627\n",
      "pseudo_intensity not working\n"
     ]
    },
    {
     "name": "stderr",
     "output_type": "stream",
     "text": [
      "c:\\Users\\fulbr\\OneDrive\\Documents\\01 Uni OneDrive\\11 WiSe 2324\\02 Virtuelle Akustik\\Projekt\\VAR-Project\\Code\\method_wrapper.py:19: RuntimeWarning: invalid value encountered in log10\n",
      "  TH = 20*np.log10((top)/(left + right + back))\n",
      "c:\\Users\\fulbr\\OneDrive\\Documents\\01 Uni OneDrive\\11 WiSe 2324\\02 Virtuelle Akustik\\Projekt\\VAR-Project\\Code\\method_wrapper.py:21: RuntimeWarning: invalid value encountered in log10\n",
      "  TS = 20*np.log10((top)/(left + right))\n"
     ]
    },
    {
     "name": "stdout",
     "output_type": "stream",
     "text": [
      "allrad_decoder TS: -5.999971353295513 TH: -6.296621075022239\n",
      "allrad2_decoder TS: -6.009815935211549 TH: -7.083588170616382\n",
      "mad_decoder TS: nan TH: nan\n",
      "\n",
      "A31p\n",
      "../Raw Data/Applied Acoustics/A31p/HOA/\n",
      "beamforming TS: -6.628375444736312 TH: 0.9982965468830635\n",
      "pseudo_intensity not working\n"
     ]
    },
    {
     "name": "stderr",
     "output_type": "stream",
     "text": [
      "c:\\Users\\fulbr\\OneDrive\\Documents\\01 Uni OneDrive\\11 WiSe 2324\\02 Virtuelle Akustik\\Projekt\\VAR-Project\\Code\\method_wrapper.py:19: RuntimeWarning: invalid value encountered in log10\n",
      "  TH = 20*np.log10((top)/(left + right + back))\n",
      "c:\\Users\\fulbr\\OneDrive\\Documents\\01 Uni OneDrive\\11 WiSe 2324\\02 Virtuelle Akustik\\Projekt\\VAR-Project\\Code\\method_wrapper.py:21: RuntimeWarning: invalid value encountered in log10\n",
      "  TS = 20*np.log10((top)/(left + right))\n"
     ]
    },
    {
     "name": "stdout",
     "output_type": "stream",
     "text": [
      "allrad_decoder TS: -5.999971353295513 TH: -6.297198641345218\n",
      "allrad2_decoder TS: -6.009815935211549 TH: -7.083932221339171\n",
      "mad_decoder TS: nan TH: nan\n",
      "\n",
      "B10p\n",
      "../Raw Data/Applied Acoustics/B10p/HOA/\n",
      "beamforming TS: -4.94865974915502 TH: 13.454153145716322\n",
      "pseudo_intensity not working\n"
     ]
    },
    {
     "name": "stderr",
     "output_type": "stream",
     "text": [
      "c:\\Users\\fulbr\\OneDrive\\Documents\\01 Uni OneDrive\\11 WiSe 2324\\02 Virtuelle Akustik\\Projekt\\VAR-Project\\Code\\method_wrapper.py:19: RuntimeWarning: invalid value encountered in log10\n",
      "  TH = 20*np.log10((top)/(left + right + back))\n",
      "c:\\Users\\fulbr\\OneDrive\\Documents\\01 Uni OneDrive\\11 WiSe 2324\\02 Virtuelle Akustik\\Projekt\\VAR-Project\\Code\\method_wrapper.py:21: RuntimeWarning: invalid value encountered in log10\n",
      "  TS = 20*np.log10((top)/(left + right))\n"
     ]
    },
    {
     "name": "stdout",
     "output_type": "stream",
     "text": [
      "allrad_decoder TS: -5.999971353295513 TH: -6.296909862984366\n",
      "allrad2_decoder TS: -6.009815935211549 TH: -7.083755900733587\n",
      "mad_decoder TS: nan TH: nan\n",
      "\n",
      "B11p\n",
      "../Raw Data/Applied Acoustics/B11p/HOA/\n",
      "beamforming TS: -4.948717191004479 TH: 13.454083468750916\n",
      "pseudo_intensity not working\n"
     ]
    },
    {
     "name": "stderr",
     "output_type": "stream",
     "text": [
      "c:\\Users\\fulbr\\OneDrive\\Documents\\01 Uni OneDrive\\11 WiSe 2324\\02 Virtuelle Akustik\\Projekt\\VAR-Project\\Code\\method_wrapper.py:19: RuntimeWarning: invalid value encountered in log10\n",
      "  TH = 20*np.log10((top)/(left + right + back))\n",
      "c:\\Users\\fulbr\\OneDrive\\Documents\\01 Uni OneDrive\\11 WiSe 2324\\02 Virtuelle Akustik\\Projekt\\VAR-Project\\Code\\method_wrapper.py:21: RuntimeWarning: invalid value encountered in log10\n",
      "  TS = 20*np.log10((top)/(left + right))\n"
     ]
    },
    {
     "name": "stdout",
     "output_type": "stream",
     "text": [
      "allrad_decoder TS: -5.999971353295513 TH: -6.297198641345218\n",
      "allrad2_decoder TS: -6.009815935211549 TH: -7.083932221339171\n",
      "mad_decoder TS: nan TH: nan\n",
      "\n",
      "B20p\n",
      "../Raw Data/Applied Acoustics/B20p/HOA/\n",
      "beamforming TS: 2.0210065750510866 TH: 3.4485522389458527\n",
      "pseudo_intensity not working\n"
     ]
    },
    {
     "name": "stderr",
     "output_type": "stream",
     "text": [
      "c:\\Users\\fulbr\\OneDrive\\Documents\\01 Uni OneDrive\\11 WiSe 2324\\02 Virtuelle Akustik\\Projekt\\VAR-Project\\Code\\method_wrapper.py:19: RuntimeWarning: invalid value encountered in log10\n",
      "  TH = 20*np.log10((top)/(left + right + back))\n",
      "c:\\Users\\fulbr\\OneDrive\\Documents\\01 Uni OneDrive\\11 WiSe 2324\\02 Virtuelle Akustik\\Projekt\\VAR-Project\\Code\\method_wrapper.py:21: RuntimeWarning: invalid value encountered in log10\n",
      "  TS = 20*np.log10((top)/(left + right))\n"
     ]
    },
    {
     "name": "stdout",
     "output_type": "stream",
     "text": [
      "allrad_decoder TS: -5.999971353295513 TH: -6.296909862984366\n",
      "allrad2_decoder TS: -6.009815935211549 TH: -7.083755900733587\n",
      "mad_decoder TS: nan TH: nan\n",
      "\n",
      "B21p\n",
      "../Raw Data/Applied Acoustics/B21p/HOA/\n",
      "beamforming TS: -1.2481593552089216 TH: 11.161507016183695\n",
      "pseudo_intensity not working\n"
     ]
    },
    {
     "name": "stderr",
     "output_type": "stream",
     "text": [
      "c:\\Users\\fulbr\\OneDrive\\Documents\\01 Uni OneDrive\\11 WiSe 2324\\02 Virtuelle Akustik\\Projekt\\VAR-Project\\Code\\method_wrapper.py:19: RuntimeWarning: invalid value encountered in log10\n",
      "  TH = 20*np.log10((top)/(left + right + back))\n",
      "c:\\Users\\fulbr\\OneDrive\\Documents\\01 Uni OneDrive\\11 WiSe 2324\\02 Virtuelle Akustik\\Projekt\\VAR-Project\\Code\\method_wrapper.py:21: RuntimeWarning: invalid value encountered in log10\n",
      "  TS = 20*np.log10((top)/(left + right))\n"
     ]
    },
    {
     "name": "stdout",
     "output_type": "stream",
     "text": [
      "allrad_decoder TS: -5.999971353295513 TH: -6.297198641345218\n",
      "allrad2_decoder TS: -6.009815935211549 TH: -7.083932221339171\n",
      "mad_decoder TS: nan TH: nan\n",
      "\n",
      "B30p\n",
      "../Raw Data/Applied Acoustics/B30p/HOA/\n",
      "beamforming TS: -6.156178359865896 TH: 2.2132791693481004\n",
      "pseudo_intensity not working\n"
     ]
    },
    {
     "name": "stderr",
     "output_type": "stream",
     "text": [
      "c:\\Users\\fulbr\\OneDrive\\Documents\\01 Uni OneDrive\\11 WiSe 2324\\02 Virtuelle Akustik\\Projekt\\VAR-Project\\Code\\method_wrapper.py:19: RuntimeWarning: invalid value encountered in log10\n",
      "  TH = 20*np.log10((top)/(left + right + back))\n",
      "c:\\Users\\fulbr\\OneDrive\\Documents\\01 Uni OneDrive\\11 WiSe 2324\\02 Virtuelle Akustik\\Projekt\\VAR-Project\\Code\\method_wrapper.py:21: RuntimeWarning: invalid value encountered in log10\n",
      "  TS = 20*np.log10((top)/(left + right))\n"
     ]
    },
    {
     "name": "stdout",
     "output_type": "stream",
     "text": [
      "allrad_decoder TS: -5.999971353295513 TH: -6.297198641345218\n",
      "allrad2_decoder TS: -6.009815935211549 TH: -7.083932221339171\n",
      "mad_decoder TS: nan TH: nan\n",
      "\n",
      "B31p\n",
      "../Raw Data/Applied Acoustics/B31p/HOA/\n",
      "beamforming TS: -6.618924593429111 TH: 1.0104711557508437\n",
      "pseudo_intensity not working\n"
     ]
    },
    {
     "name": "stderr",
     "output_type": "stream",
     "text": [
      "c:\\Users\\fulbr\\OneDrive\\Documents\\01 Uni OneDrive\\11 WiSe 2324\\02 Virtuelle Akustik\\Projekt\\VAR-Project\\Code\\method_wrapper.py:19: RuntimeWarning: invalid value encountered in log10\n",
      "  TH = 20*np.log10((top)/(left + right + back))\n",
      "c:\\Users\\fulbr\\OneDrive\\Documents\\01 Uni OneDrive\\11 WiSe 2324\\02 Virtuelle Akustik\\Projekt\\VAR-Project\\Code\\method_wrapper.py:21: RuntimeWarning: invalid value encountered in log10\n",
      "  TS = 20*np.log10((top)/(left + right))\n"
     ]
    },
    {
     "name": "stdout",
     "output_type": "stream",
     "text": [
      "allrad_decoder TS: -6.000279339414924 TH: -6.296975291883177\n",
      "allrad2_decoder TS: -6.00997467249666 TH: -7.08376747711354\n",
      "mad_decoder TS: nan TH: nan\n",
      "\n",
      "C10p\n",
      "../Raw Data/Applied Acoustics/C10p/HOA/\n",
      "beamforming TS: -8.69803323683069 TH: 1.7118784980798862\n",
      "pseudo_intensity not working\n"
     ]
    },
    {
     "name": "stderr",
     "output_type": "stream",
     "text": [
      "c:\\Users\\fulbr\\OneDrive\\Documents\\01 Uni OneDrive\\11 WiSe 2324\\02 Virtuelle Akustik\\Projekt\\VAR-Project\\Code\\method_wrapper.py:19: RuntimeWarning: invalid value encountered in log10\n",
      "  TH = 20*np.log10((top)/(left + right + back))\n",
      "c:\\Users\\fulbr\\OneDrive\\Documents\\01 Uni OneDrive\\11 WiSe 2324\\02 Virtuelle Akustik\\Projekt\\VAR-Project\\Code\\method_wrapper.py:21: RuntimeWarning: invalid value encountered in log10\n",
      "  TS = 20*np.log10((top)/(left + right))\n"
     ]
    },
    {
     "name": "stdout",
     "output_type": "stream",
     "text": [
      "allrad_decoder TS: -5.999971353295513 TH: -6.297198641345218\n",
      "allrad2_decoder TS: -6.009815935211549 TH: -7.083932221339171\n",
      "mad_decoder TS: nan TH: nan\n",
      "\n",
      "C11p\n",
      "../Raw Data/Applied Acoustics/C11p/HOA/\n",
      "beamforming TS: -9.384470236056817 TH: -0.4771977786815398\n",
      "pseudo_intensity not working\n"
     ]
    },
    {
     "name": "stderr",
     "output_type": "stream",
     "text": [
      "c:\\Users\\fulbr\\OneDrive\\Documents\\01 Uni OneDrive\\11 WiSe 2324\\02 Virtuelle Akustik\\Projekt\\VAR-Project\\Code\\method_wrapper.py:19: RuntimeWarning: invalid value encountered in log10\n",
      "  TH = 20*np.log10((top)/(left + right + back))\n",
      "c:\\Users\\fulbr\\OneDrive\\Documents\\01 Uni OneDrive\\11 WiSe 2324\\02 Virtuelle Akustik\\Projekt\\VAR-Project\\Code\\method_wrapper.py:21: RuntimeWarning: invalid value encountered in log10\n",
      "  TS = 20*np.log10((top)/(left + right))\n"
     ]
    },
    {
     "name": "stdout",
     "output_type": "stream",
     "text": [
      "allrad_decoder TS: -5.999971353295513 TH: -6.296909862984366\n",
      "allrad2_decoder TS: -6.009815935211549 TH: -7.083755900733587\n",
      "mad_decoder TS: nan TH: nan\n",
      "\n",
      "C20p\n",
      "../Raw Data/Applied Acoustics/C20p/HOA/\n",
      "beamforming TS: -5.666452492783397 TH: 5.424830147760856\n",
      "pseudo_intensity not working\n"
     ]
    },
    {
     "name": "stderr",
     "output_type": "stream",
     "text": [
      "c:\\Users\\fulbr\\OneDrive\\Documents\\01 Uni OneDrive\\11 WiSe 2324\\02 Virtuelle Akustik\\Projekt\\VAR-Project\\Code\\method_wrapper.py:19: RuntimeWarning: invalid value encountered in log10\n",
      "  TH = 20*np.log10((top)/(left + right + back))\n",
      "c:\\Users\\fulbr\\OneDrive\\Documents\\01 Uni OneDrive\\11 WiSe 2324\\02 Virtuelle Akustik\\Projekt\\VAR-Project\\Code\\method_wrapper.py:21: RuntimeWarning: invalid value encountered in log10\n",
      "  TS = 20*np.log10((top)/(left + right))\n"
     ]
    },
    {
     "name": "stdout",
     "output_type": "stream",
     "text": [
      "allrad_decoder TS: -5.999971353295513 TH: -6.297198641345218\n",
      "allrad2_decoder TS: -6.009815935211549 TH: -7.083932221339171\n",
      "mad_decoder TS: nan TH: nan\n",
      "\n",
      "C21p\n",
      "../Raw Data/Applied Acoustics/C21p/HOA/\n",
      "beamforming TS: -6.3573281096453105 TH: 2.9767551278852604\n",
      "pseudo_intensity not working\n"
     ]
    },
    {
     "name": "stderr",
     "output_type": "stream",
     "text": [
      "c:\\Users\\fulbr\\OneDrive\\Documents\\01 Uni OneDrive\\11 WiSe 2324\\02 Virtuelle Akustik\\Projekt\\VAR-Project\\Code\\method_wrapper.py:19: RuntimeWarning: invalid value encountered in log10\n",
      "  TH = 20*np.log10((top)/(left + right + back))\n",
      "c:\\Users\\fulbr\\OneDrive\\Documents\\01 Uni OneDrive\\11 WiSe 2324\\02 Virtuelle Akustik\\Projekt\\VAR-Project\\Code\\method_wrapper.py:21: RuntimeWarning: invalid value encountered in log10\n",
      "  TS = 20*np.log10((top)/(left + right))\n"
     ]
    },
    {
     "name": "stdout",
     "output_type": "stream",
     "text": [
      "allrad_decoder TS: -5.999971353295513 TH: -6.297198641345218\n",
      "allrad2_decoder TS: -6.009815935211549 TH: -7.083932221339171\n",
      "mad_decoder TS: nan TH: nan\n",
      "\n",
      "C30p\n",
      "../Raw Data/Applied Acoustics/C30p/HOA/\n",
      "beamforming TS: -6.259762037187851 TH: 2.209035498806842\n",
      "pseudo_intensity not working\n"
     ]
    },
    {
     "name": "stderr",
     "output_type": "stream",
     "text": [
      "c:\\Users\\fulbr\\OneDrive\\Documents\\01 Uni OneDrive\\11 WiSe 2324\\02 Virtuelle Akustik\\Projekt\\VAR-Project\\Code\\method_wrapper.py:19: RuntimeWarning: invalid value encountered in log10\n",
      "  TH = 20*np.log10((top)/(left + right + back))\n",
      "c:\\Users\\fulbr\\OneDrive\\Documents\\01 Uni OneDrive\\11 WiSe 2324\\02 Virtuelle Akustik\\Projekt\\VAR-Project\\Code\\method_wrapper.py:21: RuntimeWarning: invalid value encountered in log10\n",
      "  TS = 20*np.log10((top)/(left + right))\n"
     ]
    },
    {
     "name": "stdout",
     "output_type": "stream",
     "text": [
      "allrad_decoder TS: -5.999971353295513 TH: -6.297198641345218\n",
      "allrad2_decoder TS: -6.009815935211549 TH: -7.083932221339171\n",
      "mad_decoder TS: nan TH: nan\n",
      "\n",
      "C31p\n",
      "../Raw Data/Applied Acoustics/C31p/HOA/\n",
      "beamforming TS: -6.7611196354481145 TH: 0.90623581825232\n",
      "pseudo_intensity not working\n"
     ]
    },
    {
     "name": "stderr",
     "output_type": "stream",
     "text": [
      "c:\\Users\\fulbr\\OneDrive\\Documents\\01 Uni OneDrive\\11 WiSe 2324\\02 Virtuelle Akustik\\Projekt\\VAR-Project\\Code\\method_wrapper.py:19: RuntimeWarning: invalid value encountered in log10\n",
      "  TH = 20*np.log10((top)/(left + right + back))\n",
      "c:\\Users\\fulbr\\OneDrive\\Documents\\01 Uni OneDrive\\11 WiSe 2324\\02 Virtuelle Akustik\\Projekt\\VAR-Project\\Code\\method_wrapper.py:21: RuntimeWarning: invalid value encountered in log10\n",
      "  TS = 20*np.log10((top)/(left + right))\n"
     ]
    },
    {
     "name": "stdout",
     "output_type": "stream",
     "text": [
      "allrad_decoder TS: -6.000279339414924 TH: -6.296975291883177\n",
      "allrad2_decoder TS: -6.00997467249666 TH: -7.08376747711354\n",
      "mad_decoder TS: nan TH: nan\n",
      "\n",
      "ORG\n",
      "../Raw Data/Applied Acoustics/ORG/HOA/\n",
      "beamforming TS: -12.356379254246583 TH: -10.625344735688024\n",
      "pseudo_intensity not working\n"
     ]
    },
    {
     "name": "stderr",
     "output_type": "stream",
     "text": [
      "c:\\Users\\fulbr\\OneDrive\\Documents\\01 Uni OneDrive\\11 WiSe 2324\\02 Virtuelle Akustik\\Projekt\\VAR-Project\\Code\\method_wrapper.py:19: RuntimeWarning: invalid value encountered in log10\n",
      "  TH = 20*np.log10((top)/(left + right + back))\n",
      "c:\\Users\\fulbr\\OneDrive\\Documents\\01 Uni OneDrive\\11 WiSe 2324\\02 Virtuelle Akustik\\Projekt\\VAR-Project\\Code\\method_wrapper.py:21: RuntimeWarning: invalid value encountered in log10\n",
      "  TS = 20*np.log10((top)/(left + right))\n"
     ]
    },
    {
     "name": "stdout",
     "output_type": "stream",
     "text": [
      "allrad_decoder TS: -5.999971353295513 TH: -6.297198641345218\n",
      "allrad2_decoder TS: -6.009815935211549 TH: -7.083932221339171\n",
      "mad_decoder TS: nan TH: nan\n",
      "\n"
     ]
    },
    {
     "name": "stderr",
     "output_type": "stream",
     "text": [
      "c:\\Users\\fulbr\\OneDrive\\Documents\\01 Uni OneDrive\\11 WiSe 2324\\02 Virtuelle Akustik\\Projekt\\VAR-Project\\Code\\method_wrapper.py:19: RuntimeWarning: invalid value encountered in log10\n",
      "  TH = 20*np.log10((top)/(left + right + back))\n",
      "c:\\Users\\fulbr\\OneDrive\\Documents\\01 Uni OneDrive\\11 WiSe 2324\\02 Virtuelle Akustik\\Projekt\\VAR-Project\\Code\\method_wrapper.py:21: RuntimeWarning: invalid value encountered in log10\n",
      "  TS = 20*np.log10((top)/(left + right))\n"
     ]
    }
   ],
   "source": [
    "# get all folder paths:\n",
    "\n",
    "# set up paths\n",
    "in_dir = \"../Raw Data/Applied Acoustics/\"\n",
    "folders = sorted(os.listdir(in_dir))\n",
    "\n",
    "# remove hidden folders\n",
    "folders = [folder for folder in folders if '.' not in folder]\n",
    "\n",
    "methods = [\"beamforming\", \"pseudo_intensity\", \"allrad_decoder\", \"allrad2_decoder\", \"mad_decoder\"]\n",
    "\n",
    "# create empty Dataframes to store results in\n",
    "TS_results = pd.DataFrame()\n",
    "TH_results = pd.DataFrame()\n",
    "delta_results = pd.DataFrame()\n",
    "\n",
    "# iterate through folders and methods\n",
    "for folder in folders:\n",
    "    print(folder)\n",
    "    path = in_dir + folder + \"/HOA/\"\n",
    "    print(path)\n",
    "    for method in methods:\n",
    "        try:\n",
    "            TS, TH = method_wrapper(method, path)\n",
    "            print(method, \"TS:\", TS, \"TH:\", TH)\n",
    "        except:\n",
    "            print(method, \"not working\")\n",
    "            TS = None\n",
    "            TH = None\n",
    "\n",
    "        # save data\n",
    "        TS_results.loc[folder, method] = TS\n",
    "        TH_results.loc[folder, method] = TH\n",
    "        try:\n",
    "            delta_results.loc[folder, method] = TS - TH\n",
    "\n",
    "        except:\n",
    "            delta_results.loc[folder, method] = None\n",
    "\n",
    "\n",
    "    print(\"\")"
   ]
  },
  {
   "cell_type": "code",
   "execution_count": 3,
   "metadata": {},
   "outputs": [],
   "source": [
    "# create out folder\n",
    "os.makedirs(\"../out\", exist_ok=True)\n",
    "\n",
    "# write dataframe to excel\n",
    "with pd.ExcelWriter('../out/results.xlsx', engine='openpyxl') as writer:\n",
    "    TS_results.to_excel(writer, sheet_name='TS')\n",
    "    TH_results.to_excel(writer, sheet_name='TH')\n",
    "    delta_results.to_excel(writer, sheet_name='delta')"
   ]
  },
  {
   "cell_type": "markdown",
   "metadata": {},
   "source": [
    "why is mad not working ???"
   ]
  }
 ],
 "metadata": {
  "kernelspec": {
   "display_name": "projVAR",
   "language": "python",
   "name": "python3"
  },
  "language_info": {
   "codemirror_mode": {
    "name": "ipython",
    "version": 3
   },
   "file_extension": ".py",
   "mimetype": "text/x-python",
   "name": "python",
   "nbconvert_exporter": "python",
   "pygments_lexer": "ipython3",
   "version": "3.11.8"
  }
 },
 "nbformat": 4,
 "nbformat_minor": 2
}
