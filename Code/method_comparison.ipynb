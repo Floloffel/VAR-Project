{
 "cells": [
  {
   "cell_type": "code",
<<<<<<< HEAD
   "execution_count": 1,
=======
   "execution_count": 3,
>>>>>>> 42e843e0774cf7fd6de527d64f6af3dd6c237616
   "metadata": {},
   "outputs": [],
   "source": [
    "import pandas as pd\n",
    "import numpy as np\n",
    "import matplotlib.pyplot as plt\n",
    "import os\n",
    "\n",
    "from method_wrapper import method_wrapper"
   ]
  },
  {
   "cell_type": "code",
<<<<<<< HEAD
   "execution_count": 3,
=======
   "execution_count": 4,
>>>>>>> 42e843e0774cf7fd6de527d64f6af3dd6c237616
   "metadata": {},
   "outputs": [
    {
     "name": "stdout",
     "output_type": "stream",
     "text": [
      "A10p\n",
      "../Raw Data/Applied Acoustics/A10p/HOA/\n",
      "beamforming TS: 24.345310773635607 TH: nan\n",
      "pseudo_intensity not working\n",
      "allrad_decoder TS: -5.999971353295513 TH: -6.2971986413452194\n",
      "allrad2_decoder TS: -6.009815935211549 TH: -7.083932221339171\n",
      "mad_decoder TS: nan TH: nan\n",
      "\n",
      "A11p\n",
      "../Raw Data/Applied Acoustics/A11p/HOA/\n",
<<<<<<< HEAD
      "beamforming TS: -21.797408352557156 TH: -19.084177503007027\n",
      "pseudo_intensity not working\n"
     ]
    },
    {
     "name": "stderr",
     "output_type": "stream",
     "text": [
      "c:\\Users\\fulbr\\OneDrive\\Documents\\01 Uni OneDrive\\11 WiSe 2324\\02 Virtuelle Akustik\\Projekt\\VAR-Project\\Code\\method_wrapper.py:19: RuntimeWarning: invalid value encountered in log10\n",
      "  TH = 20*np.log10((top)/(left + right + back))\n",
      "c:\\Users\\fulbr\\OneDrive\\Documents\\01 Uni OneDrive\\11 WiSe 2324\\02 Virtuelle Akustik\\Projekt\\VAR-Project\\Code\\method_wrapper.py:21: RuntimeWarning: invalid value encountered in log10\n",
      "  TS = 20*np.log10((top)/(left + right))\n"
     ]
    },
    {
     "name": "stdout",
     "output_type": "stream",
     "text": [
      "allrad_decoder TS: -5.999971353295513 TH: -6.297198641345218\n",
=======
      "beamforming TS: 2.4596911970618125 TH: nan\n",
      "pseudo_intensity not working\n",
      "allrad_decoder TS: -5.999971353295513 TH: -6.2971986413452194\n",
>>>>>>> 42e843e0774cf7fd6de527d64f6af3dd6c237616
      "allrad2_decoder TS: -6.009815935211549 TH: -7.083932221339171\n",
      "mad_decoder TS: nan TH: nan\n",
      "\n",
      "A20p\n",
      "../Raw Data/Applied Acoustics/A20p/HOA/\n",
<<<<<<< HEAD
      "beamforming TS: -37.25695948032423 TH: -34.91000284296787\n",
      "pseudo_intensity not working\n"
     ]
    },
    {
     "name": "stderr",
     "output_type": "stream",
     "text": [
      "c:\\Users\\fulbr\\OneDrive\\Documents\\01 Uni OneDrive\\11 WiSe 2324\\02 Virtuelle Akustik\\Projekt\\VAR-Project\\Code\\method_wrapper.py:19: RuntimeWarning: invalid value encountered in log10\n",
      "  TH = 20*np.log10((top)/(left + right + back))\n",
      "c:\\Users\\fulbr\\OneDrive\\Documents\\01 Uni OneDrive\\11 WiSe 2324\\02 Virtuelle Akustik\\Projekt\\VAR-Project\\Code\\method_wrapper.py:21: RuntimeWarning: invalid value encountered in log10\n",
      "  TS = 20*np.log10((top)/(left + right))\n"
     ]
    },
    {
     "name": "stdout",
     "output_type": "stream",
     "text": [
      "allrad_decoder TS: -5.999971353295513 TH: -6.297198641345218\n",
=======
      "beamforming TS: nan TH: nan\n",
      "pseudo_intensity not working\n",
      "allrad_decoder TS: -5.999971353295513 TH: -6.2971986413452194\n",
>>>>>>> 42e843e0774cf7fd6de527d64f6af3dd6c237616
      "allrad2_decoder TS: -6.009815935211549 TH: -7.083932221339171\n",
      "mad_decoder TS: nan TH: nan\n",
      "\n",
      "A21p\n",
      "../Raw Data/Applied Acoustics/A21p/HOA/\n",
<<<<<<< HEAD
      "beamforming TS: -33.94385183827433 TH: -31.25586352365334\n",
      "pseudo_intensity not working\n"
     ]
    },
    {
     "name": "stderr",
     "output_type": "stream",
     "text": [
      "c:\\Users\\fulbr\\OneDrive\\Documents\\01 Uni OneDrive\\11 WiSe 2324\\02 Virtuelle Akustik\\Projekt\\VAR-Project\\Code\\method_wrapper.py:19: RuntimeWarning: invalid value encountered in log10\n",
      "  TH = 20*np.log10((top)/(left + right + back))\n",
      "c:\\Users\\fulbr\\OneDrive\\Documents\\01 Uni OneDrive\\11 WiSe 2324\\02 Virtuelle Akustik\\Projekt\\VAR-Project\\Code\\method_wrapper.py:21: RuntimeWarning: invalid value encountered in log10\n",
      "  TS = 20*np.log10((top)/(left + right))\n"
     ]
    },
    {
     "name": "stdout",
     "output_type": "stream",
     "text": [
      "allrad_decoder TS: -5.999971353295513 TH: -6.297198641345218\n",
=======
      "beamforming TS: 5.948817827934823 TH: nan\n",
      "pseudo_intensity not working\n",
      "allrad_decoder TS: -5.999971353295513 TH: -6.2971986413452194\n",
>>>>>>> 42e843e0774cf7fd6de527d64f6af3dd6c237616
      "allrad2_decoder TS: -6.009815935211549 TH: -7.083932221339171\n",
      "mad_decoder TS: nan TH: nan\n",
      "\n",
      "A30p\n",
      "../Raw Data/Applied Acoustics/A30p/HOA/\n",
<<<<<<< HEAD
      "beamforming TS: -24.335457864442468 TH: -18.65945412900707\n",
      "pseudo_intensity not working\n"
     ]
    },
    {
     "name": "stderr",
     "output_type": "stream",
     "text": [
      "c:\\Users\\fulbr\\OneDrive\\Documents\\01 Uni OneDrive\\11 WiSe 2324\\02 Virtuelle Akustik\\Projekt\\VAR-Project\\Code\\method_wrapper.py:19: RuntimeWarning: invalid value encountered in log10\n",
      "  TH = 20*np.log10((top)/(left + right + back))\n",
      "c:\\Users\\fulbr\\OneDrive\\Documents\\01 Uni OneDrive\\11 WiSe 2324\\02 Virtuelle Akustik\\Projekt\\VAR-Project\\Code\\method_wrapper.py:21: RuntimeWarning: invalid value encountered in log10\n",
      "  TS = 20*np.log10((top)/(left + right))\n"
     ]
    },
    {
     "name": "stdout",
     "output_type": "stream",
     "text": [
      "allrad_decoder TS: -5.999971353295513 TH: -6.296621075022239\n",
      "allrad2_decoder TS: -6.009815935211549 TH: -7.083588170616382\n",
=======
      "beamforming TS: -6.164579443408352 TH: 2.197684346604363\n",
      "pseudo_intensity not working\n",
      "allrad_decoder TS: -5.999971353295513 TH: -6.296621075022242\n",
      "allrad2_decoder TS: -6.009815935211549 TH: -7.08358817061638\n",
>>>>>>> 42e843e0774cf7fd6de527d64f6af3dd6c237616
      "mad_decoder TS: nan TH: nan\n",
      "\n",
      "A31p\n",
      "../Raw Data/Applied Acoustics/A31p/HOA/\n",
<<<<<<< HEAD
      "beamforming TS: -23.40575280209854 TH: -17.138462411729297\n",
      "pseudo_intensity not working\n"
     ]
    },
    {
     "name": "stderr",
     "output_type": "stream",
     "text": [
      "c:\\Users\\fulbr\\OneDrive\\Documents\\01 Uni OneDrive\\11 WiSe 2324\\02 Virtuelle Akustik\\Projekt\\VAR-Project\\Code\\method_wrapper.py:19: RuntimeWarning: invalid value encountered in log10\n",
      "  TH = 20*np.log10((top)/(left + right + back))\n",
      "c:\\Users\\fulbr\\OneDrive\\Documents\\01 Uni OneDrive\\11 WiSe 2324\\02 Virtuelle Akustik\\Projekt\\VAR-Project\\Code\\method_wrapper.py:21: RuntimeWarning: invalid value encountered in log10\n",
      "  TS = 20*np.log10((top)/(left + right))\n"
     ]
    },
    {
     "name": "stdout",
     "output_type": "stream",
     "text": [
      "allrad_decoder TS: -5.999971353295513 TH: -6.297198641345218\n",
=======
      "beamforming TS: -6.628375444736312 TH: 0.9982965468830639\n",
      "pseudo_intensity not working\n",
      "allrad_decoder TS: -5.999971353295513 TH: -6.2971986413452194\n",
>>>>>>> 42e843e0774cf7fd6de527d64f6af3dd6c237616
      "allrad2_decoder TS: -6.009815935211549 TH: -7.083932221339171\n",
      "mad_decoder TS: nan TH: nan\n",
      "\n",
      "B10p\n",
      "../Raw Data/Applied Acoustics/B10p/HOA/\n",
<<<<<<< HEAD
      "beamforming TS: -18.785070149710215 TH: -15.251730767159327\n",
      "pseudo_intensity not working\n"
     ]
    },
    {
     "name": "stderr",
     "output_type": "stream",
     "text": [
      "c:\\Users\\fulbr\\OneDrive\\Documents\\01 Uni OneDrive\\11 WiSe 2324\\02 Virtuelle Akustik\\Projekt\\VAR-Project\\Code\\method_wrapper.py:19: RuntimeWarning: invalid value encountered in log10\n",
      "  TH = 20*np.log10((top)/(left + right + back))\n",
      "c:\\Users\\fulbr\\OneDrive\\Documents\\01 Uni OneDrive\\11 WiSe 2324\\02 Virtuelle Akustik\\Projekt\\VAR-Project\\Code\\method_wrapper.py:21: RuntimeWarning: invalid value encountered in log10\n",
      "  TS = 20*np.log10((top)/(left + right))\n"
     ]
    },
    {
     "name": "stdout",
     "output_type": "stream",
     "text": [
      "allrad_decoder TS: -5.999971353295513 TH: -6.296909862984366\n",
=======
      "beamforming TS: -4.948659749155016 TH: nan\n",
      "pseudo_intensity not working\n",
      "allrad_decoder TS: -5.999971353295513 TH: -6.296909862984368\n",
>>>>>>> 42e843e0774cf7fd6de527d64f6af3dd6c237616
      "allrad2_decoder TS: -6.009815935211549 TH: -7.083755900733587\n",
      "mad_decoder TS: nan TH: nan\n",
      "\n",
      "B11p\n",
      "../Raw Data/Applied Acoustics/B11p/HOA/\n",
<<<<<<< HEAD
      "beamforming TS: -18.78500407894818 TH: -15.251662349901299\n",
      "pseudo_intensity not working\n"
     ]
    },
    {
     "name": "stderr",
     "output_type": "stream",
     "text": [
      "c:\\Users\\fulbr\\OneDrive\\Documents\\01 Uni OneDrive\\11 WiSe 2324\\02 Virtuelle Akustik\\Projekt\\VAR-Project\\Code\\method_wrapper.py:19: RuntimeWarning: invalid value encountered in log10\n",
      "  TH = 20*np.log10((top)/(left + right + back))\n",
      "c:\\Users\\fulbr\\OneDrive\\Documents\\01 Uni OneDrive\\11 WiSe 2324\\02 Virtuelle Akustik\\Projekt\\VAR-Project\\Code\\method_wrapper.py:21: RuntimeWarning: invalid value encountered in log10\n",
      "  TS = 20*np.log10((top)/(left + right))\n"
     ]
    },
    {
     "name": "stdout",
     "output_type": "stream",
     "text": [
      "allrad_decoder TS: -5.999971353295513 TH: -6.297198641345218\n",
=======
      "beamforming TS: -4.9487171910044765 TH: nan\n",
      "pseudo_intensity not working\n",
      "allrad_decoder TS: -5.999971353295513 TH: -6.2971986413452194\n",
>>>>>>> 42e843e0774cf7fd6de527d64f6af3dd6c237616
      "allrad2_decoder TS: -6.009815935211549 TH: -7.083932221339171\n",
      "mad_decoder TS: nan TH: nan\n",
      "\n",
      "B20p\n",
      "../Raw Data/Applied Acoustics/B20p/HOA/\n",
<<<<<<< HEAD
      "beamforming TS: -32.53571556205107 TH: -29.470061319889112\n",
      "pseudo_intensity not working\n"
     ]
    },
    {
     "name": "stderr",
     "output_type": "stream",
     "text": [
      "c:\\Users\\fulbr\\OneDrive\\Documents\\01 Uni OneDrive\\11 WiSe 2324\\02 Virtuelle Akustik\\Projekt\\VAR-Project\\Code\\method_wrapper.py:19: RuntimeWarning: invalid value encountered in log10\n",
      "  TH = 20*np.log10((top)/(left + right + back))\n",
      "c:\\Users\\fulbr\\OneDrive\\Documents\\01 Uni OneDrive\\11 WiSe 2324\\02 Virtuelle Akustik\\Projekt\\VAR-Project\\Code\\method_wrapper.py:21: RuntimeWarning: invalid value encountered in log10\n",
      "  TS = 20*np.log10((top)/(left + right))\n"
     ]
    },
    {
     "name": "stdout",
     "output_type": "stream",
     "text": [
      "allrad_decoder TS: -5.999971353295513 TH: -6.296909862984366\n",
=======
      "beamforming TS: 2.0210065750510866 TH: nan\n",
      "pseudo_intensity not working\n",
      "allrad_decoder TS: -5.999971353295513 TH: -6.296909862984368\n",
>>>>>>> 42e843e0774cf7fd6de527d64f6af3dd6c237616
      "allrad2_decoder TS: -6.009815935211549 TH: -7.083755900733587\n",
      "mad_decoder TS: nan TH: nan\n",
      "\n",
      "B21p\n",
      "../Raw Data/Applied Acoustics/B21p/HOA/\n",
<<<<<<< HEAD
      "beamforming TS: -30.152977843127523 TH: -26.731727145097178\n"
     ]
    },
    {
     "name": "stderr",
     "output_type": "stream",
     "text": [
      "c:\\Users\\fulbr\\OneDrive\\Documents\\01 Uni OneDrive\\11 WiSe 2324\\02 Virtuelle Akustik\\Projekt\\VAR-Project\\Code\\method_wrapper.py:19: RuntimeWarning: invalid value encountered in log10\n",
      "  TH = 20*np.log10((top)/(left + right + back))\n",
      "c:\\Users\\fulbr\\OneDrive\\Documents\\01 Uni OneDrive\\11 WiSe 2324\\02 Virtuelle Akustik\\Projekt\\VAR-Project\\Code\\method_wrapper.py:21: RuntimeWarning: invalid value encountered in log10\n",
      "  TS = 20*np.log10((top)/(left + right))\n"
     ]
    },
    {
     "name": "stdout",
     "output_type": "stream",
     "text": [
=======
      "beamforming TS: -1.2481593552089205 TH: nan\n",
>>>>>>> 42e843e0774cf7fd6de527d64f6af3dd6c237616
      "pseudo_intensity not working\n",
      "allrad_decoder TS: -5.999971353295513 TH: -6.2971986413452194\n",
      "allrad2_decoder TS: -6.009815935211549 TH: -7.083932221339171\n",
      "mad_decoder TS: nan TH: nan\n",
      "\n",
      "B30p\n",
      "../Raw Data/Applied Acoustics/B30p/HOA/\n",
<<<<<<< HEAD
      "beamforming TS: -24.386545594720243 TH: -18.712404220304375\n",
      "pseudo_intensity not working\n"
     ]
    },
    {
     "name": "stderr",
     "output_type": "stream",
     "text": [
      "c:\\Users\\fulbr\\OneDrive\\Documents\\01 Uni OneDrive\\11 WiSe 2324\\02 Virtuelle Akustik\\Projekt\\VAR-Project\\Code\\method_wrapper.py:19: RuntimeWarning: invalid value encountered in log10\n",
      "  TH = 20*np.log10((top)/(left + right + back))\n",
      "c:\\Users\\fulbr\\OneDrive\\Documents\\01 Uni OneDrive\\11 WiSe 2324\\02 Virtuelle Akustik\\Projekt\\VAR-Project\\Code\\method_wrapper.py:21: RuntimeWarning: invalid value encountered in log10\n",
      "  TS = 20*np.log10((top)/(left + right))\n"
     ]
    },
    {
     "name": "stdout",
     "output_type": "stream",
     "text": [
      "allrad_decoder TS: -5.999971353295513 TH: -6.297198641345218\n",
=======
      "beamforming TS: -6.156178359865896 TH: 2.2132791693481004\n",
      "pseudo_intensity not working\n",
      "allrad_decoder TS: -5.999971353295513 TH: -6.2971986413452194\n",
>>>>>>> 42e843e0774cf7fd6de527d64f6af3dd6c237616
      "allrad2_decoder TS: -6.009815935211549 TH: -7.083932221339171\n",
      "mad_decoder TS: nan TH: nan\n",
      "\n",
      "B31p\n",
      "../Raw Data/Applied Acoustics/B31p/HOA/\n",
<<<<<<< HEAD
      "beamforming TS: -23.480253843916344 TH: -17.217451504785668\n",
      "pseudo_intensity not working\n"
     ]
    },
    {
     "name": "stderr",
     "output_type": "stream",
     "text": [
      "c:\\Users\\fulbr\\OneDrive\\Documents\\01 Uni OneDrive\\11 WiSe 2324\\02 Virtuelle Akustik\\Projekt\\VAR-Project\\Code\\method_wrapper.py:19: RuntimeWarning: invalid value encountered in log10\n",
      "  TH = 20*np.log10((top)/(left + right + back))\n",
      "c:\\Users\\fulbr\\OneDrive\\Documents\\01 Uni OneDrive\\11 WiSe 2324\\02 Virtuelle Akustik\\Projekt\\VAR-Project\\Code\\method_wrapper.py:21: RuntimeWarning: invalid value encountered in log10\n",
      "  TS = 20*np.log10((top)/(left + right))\n"
     ]
    },
    {
     "name": "stdout",
     "output_type": "stream",
     "text": [
      "allrad_decoder TS: -6.000279339414924 TH: -6.296975291883177\n",
      "allrad2_decoder TS: -6.00997467249666 TH: -7.08376747711354\n",
=======
      "beamforming TS: -6.61892459342911 TH: 1.0104711557508452\n",
      "pseudo_intensity not working\n",
      "allrad_decoder TS: -6.000279339414924 TH: -6.296975291883179\n",
      "allrad2_decoder TS: -6.009974672496661 TH: -7.083767477113541\n",
>>>>>>> 42e843e0774cf7fd6de527d64f6af3dd6c237616
      "mad_decoder TS: nan TH: nan\n",
      "\n",
      "C10p\n",
      "../Raw Data/Applied Acoustics/C10p/HOA/\n",
<<<<<<< HEAD
      "beamforming TS: -15.046619195655339 TH: -10.267313056094098\n",
      "pseudo_intensity not working\n"
     ]
    },
    {
     "name": "stderr",
     "output_type": "stream",
     "text": [
      "c:\\Users\\fulbr\\OneDrive\\Documents\\01 Uni OneDrive\\11 WiSe 2324\\02 Virtuelle Akustik\\Projekt\\VAR-Project\\Code\\method_wrapper.py:19: RuntimeWarning: invalid value encountered in log10\n",
      "  TH = 20*np.log10((top)/(left + right + back))\n",
      "c:\\Users\\fulbr\\OneDrive\\Documents\\01 Uni OneDrive\\11 WiSe 2324\\02 Virtuelle Akustik\\Projekt\\VAR-Project\\Code\\method_wrapper.py:21: RuntimeWarning: invalid value encountered in log10\n",
      "  TS = 20*np.log10((top)/(left + right))\n"
     ]
    },
    {
     "name": "stdout",
     "output_type": "stream",
     "text": [
      "allrad_decoder TS: -5.999971353295513 TH: -6.297198641345218\n",
=======
      "beamforming TS: -8.69803323683069 TH: 1.7118784980798845\n",
      "pseudo_intensity not working\n",
      "allrad_decoder TS: -5.999971353295513 TH: -6.2971986413452194\n",
>>>>>>> 42e843e0774cf7fd6de527d64f6af3dd6c237616
      "allrad2_decoder TS: -6.009815935211549 TH: -7.083932221339171\n",
      "mad_decoder TS: nan TH: nan\n",
      "\n",
      "C11p\n",
      "../Raw Data/Applied Acoustics/C11p/HOA/\n",
<<<<<<< HEAD
      "beamforming TS: -14.03369742858996 TH: -8.708963708248882\n",
      "pseudo_intensity not working\n"
     ]
    },
    {
     "name": "stderr",
     "output_type": "stream",
     "text": [
      "c:\\Users\\fulbr\\OneDrive\\Documents\\01 Uni OneDrive\\11 WiSe 2324\\02 Virtuelle Akustik\\Projekt\\VAR-Project\\Code\\method_wrapper.py:19: RuntimeWarning: invalid value encountered in log10\n",
      "  TH = 20*np.log10((top)/(left + right + back))\n",
      "c:\\Users\\fulbr\\OneDrive\\Documents\\01 Uni OneDrive\\11 WiSe 2324\\02 Virtuelle Akustik\\Projekt\\VAR-Project\\Code\\method_wrapper.py:21: RuntimeWarning: invalid value encountered in log10\n",
      "  TS = 20*np.log10((top)/(left + right))\n"
     ]
    },
    {
     "name": "stdout",
     "output_type": "stream",
     "text": [
      "allrad_decoder TS: -5.999971353295513 TH: -6.296909862984366\n",
=======
      "beamforming TS: -9.384470236056817 TH: -0.4771977786815378\n",
      "pseudo_intensity not working\n",
      "allrad_decoder TS: -5.999971353295513 TH: -6.296909862984368\n",
>>>>>>> 42e843e0774cf7fd6de527d64f6af3dd6c237616
      "allrad2_decoder TS: -6.009815935211549 TH: -7.083755900733587\n",
      "mad_decoder TS: nan TH: nan\n",
      "\n",
      "C20p\n",
      "../Raw Data/Applied Acoustics/C20p/HOA/\n",
<<<<<<< HEAD
      "beamforming TS: -22.78711399407426 TH: -18.012552117299443\n",
      "pseudo_intensity not working\n"
     ]
    },
    {
     "name": "stderr",
     "output_type": "stream",
     "text": [
      "c:\\Users\\fulbr\\OneDrive\\Documents\\01 Uni OneDrive\\11 WiSe 2324\\02 Virtuelle Akustik\\Projekt\\VAR-Project\\Code\\method_wrapper.py:19: RuntimeWarning: invalid value encountered in log10\n",
      "  TH = 20*np.log10((top)/(left + right + back))\n",
      "c:\\Users\\fulbr\\OneDrive\\Documents\\01 Uni OneDrive\\11 WiSe 2324\\02 Virtuelle Akustik\\Projekt\\VAR-Project\\Code\\method_wrapper.py:21: RuntimeWarning: invalid value encountered in log10\n",
      "  TS = 20*np.log10((top)/(left + right))\n"
     ]
    },
    {
     "name": "stdout",
     "output_type": "stream",
     "text": [
      "allrad_decoder TS: -5.999971353295513 TH: -6.297198641345218\n",
=======
      "beamforming TS: -5.666452492783397 TH: 5.424830147760855\n",
      "pseudo_intensity not working\n",
      "allrad_decoder TS: -5.999971353295513 TH: -6.2971986413452194\n",
>>>>>>> 42e843e0774cf7fd6de527d64f6af3dd6c237616
      "allrad2_decoder TS: -6.009815935211549 TH: -7.083932221339171\n",
      "mad_decoder TS: nan TH: nan\n",
      "\n",
      "C21p\n",
      "../Raw Data/Applied Acoustics/C21p/HOA/\n",
<<<<<<< HEAD
      "beamforming TS: -21.57842545072711 TH: -16.250262174039108\n",
      "pseudo_intensity not working\n"
     ]
    },
    {
     "name": "stderr",
     "output_type": "stream",
     "text": [
      "c:\\Users\\fulbr\\OneDrive\\Documents\\01 Uni OneDrive\\11 WiSe 2324\\02 Virtuelle Akustik\\Projekt\\VAR-Project\\Code\\method_wrapper.py:19: RuntimeWarning: invalid value encountered in log10\n",
      "  TH = 20*np.log10((top)/(left + right + back))\n",
      "c:\\Users\\fulbr\\OneDrive\\Documents\\01 Uni OneDrive\\11 WiSe 2324\\02 Virtuelle Akustik\\Projekt\\VAR-Project\\Code\\method_wrapper.py:21: RuntimeWarning: invalid value encountered in log10\n",
      "  TS = 20*np.log10((top)/(left + right))\n"
     ]
    },
    {
     "name": "stdout",
     "output_type": "stream",
     "text": [
      "allrad_decoder TS: -5.999971353295513 TH: -6.297198641345218\n",
=======
      "beamforming TS: -6.35732810964531 TH: 2.9767551278852618\n",
      "pseudo_intensity not working\n",
      "allrad_decoder TS: -5.999971353295513 TH: -6.2971986413452194\n",
>>>>>>> 42e843e0774cf7fd6de527d64f6af3dd6c237616
      "allrad2_decoder TS: -6.009815935211549 TH: -7.083932221339171\n",
      "mad_decoder TS: nan TH: nan\n",
      "\n",
      "C30p\n",
      "../Raw Data/Applied Acoustics/C30p/HOA/\n",
<<<<<<< HEAD
      "beamforming TS: -21.567001885307523 TH: -15.832395345885201\n",
      "pseudo_intensity not working\n"
     ]
    },
    {
     "name": "stderr",
     "output_type": "stream",
     "text": [
      "c:\\Users\\fulbr\\OneDrive\\Documents\\01 Uni OneDrive\\11 WiSe 2324\\02 Virtuelle Akustik\\Projekt\\VAR-Project\\Code\\method_wrapper.py:19: RuntimeWarning: invalid value encountered in log10\n",
      "  TH = 20*np.log10((top)/(left + right + back))\n",
      "c:\\Users\\fulbr\\OneDrive\\Documents\\01 Uni OneDrive\\11 WiSe 2324\\02 Virtuelle Akustik\\Projekt\\VAR-Project\\Code\\method_wrapper.py:21: RuntimeWarning: invalid value encountered in log10\n",
      "  TS = 20*np.log10((top)/(left + right))\n"
     ]
    },
    {
     "name": "stdout",
     "output_type": "stream",
     "text": [
      "allrad_decoder TS: -5.999971353295513 TH: -6.297198641345218\n",
=======
      "beamforming TS: -6.25976203718785 TH: 2.209035498806845\n",
      "pseudo_intensity not working\n",
      "allrad_decoder TS: -5.999971353295513 TH: -6.2971986413452194\n",
>>>>>>> 42e843e0774cf7fd6de527d64f6af3dd6c237616
      "allrad2_decoder TS: -6.009815935211549 TH: -7.083932221339171\n",
      "mad_decoder TS: nan TH: nan\n",
      "\n",
      "C31p\n",
      "../Raw Data/Applied Acoustics/C31p/HOA/\n",
<<<<<<< HEAD
      "beamforming TS: -20.780759090560007 TH: -14.455702462563753\n",
      "pseudo_intensity not working\n"
     ]
    },
    {
     "name": "stderr",
     "output_type": "stream",
     "text": [
      "c:\\Users\\fulbr\\OneDrive\\Documents\\01 Uni OneDrive\\11 WiSe 2324\\02 Virtuelle Akustik\\Projekt\\VAR-Project\\Code\\method_wrapper.py:19: RuntimeWarning: invalid value encountered in log10\n",
      "  TH = 20*np.log10((top)/(left + right + back))\n",
      "c:\\Users\\fulbr\\OneDrive\\Documents\\01 Uni OneDrive\\11 WiSe 2324\\02 Virtuelle Akustik\\Projekt\\VAR-Project\\Code\\method_wrapper.py:21: RuntimeWarning: invalid value encountered in log10\n",
      "  TS = 20*np.log10((top)/(left + right))\n"
     ]
    },
    {
     "name": "stdout",
     "output_type": "stream",
     "text": [
      "allrad_decoder TS: -6.000279339414924 TH: -6.296975291883177\n",
      "allrad2_decoder TS: -6.00997467249666 TH: -7.08376747711354\n",
=======
      "beamforming TS: -6.7611196354481145 TH: 0.9062358182523202\n",
      "pseudo_intensity not working\n",
      "allrad_decoder TS: -6.000279339414924 TH: -6.296975291883179\n",
      "allrad2_decoder TS: -6.009974672496661 TH: -7.083767477113541\n",
>>>>>>> 42e843e0774cf7fd6de527d64f6af3dd6c237616
      "mad_decoder TS: nan TH: nan\n",
      "\n",
      "ORG\n",
      "../Raw Data/Applied Acoustics/ORG/HOA/\n",
<<<<<<< HEAD
      "beamforming TS: -14.199865818484383 TH: 7.74710025583603\n",
      "pseudo_intensity not working\n"
     ]
    },
    {
     "name": "stderr",
     "output_type": "stream",
     "text": [
      "c:\\Users\\fulbr\\OneDrive\\Documents\\01 Uni OneDrive\\11 WiSe 2324\\02 Virtuelle Akustik\\Projekt\\VAR-Project\\Code\\method_wrapper.py:19: RuntimeWarning: invalid value encountered in log10\n",
      "  TH = 20*np.log10((top)/(left + right + back))\n",
      "c:\\Users\\fulbr\\OneDrive\\Documents\\01 Uni OneDrive\\11 WiSe 2324\\02 Virtuelle Akustik\\Projekt\\VAR-Project\\Code\\method_wrapper.py:21: RuntimeWarning: invalid value encountered in log10\n",
      "  TS = 20*np.log10((top)/(left + right))\n"
     ]
    },
    {
     "name": "stdout",
     "output_type": "stream",
     "text": [
      "allrad_decoder TS: -5.999971353295513 TH: -6.297198641345218\n",
=======
      "beamforming TS: -12.356379254246583 TH: -10.625344735688024\n",
      "pseudo_intensity not working\n",
      "allrad_decoder TS: -5.999971353295513 TH: -6.2971986413452194\n",
>>>>>>> 42e843e0774cf7fd6de527d64f6af3dd6c237616
      "allrad2_decoder TS: -6.009815935211549 TH: -7.083932221339171\n",
      "mad_decoder TS: nan TH: nan\n",
      "\n"
     ]
    },
    {
     "name": "stderr",
     "output_type": "stream",
     "text": [
      "c:\\Users\\fulbr\\OneDrive\\Documents\\01 Uni OneDrive\\11 WiSe 2324\\02 Virtuelle Akustik\\Projekt\\VAR-Project\\Code\\method_wrapper.py:19: RuntimeWarning: invalid value encountered in log10\n",
      "  TH = 20*np.log10((top)/(left + right + back))\n",
      "c:\\Users\\fulbr\\OneDrive\\Documents\\01 Uni OneDrive\\11 WiSe 2324\\02 Virtuelle Akustik\\Projekt\\VAR-Project\\Code\\method_wrapper.py:21: RuntimeWarning: invalid value encountered in log10\n",
      "  TS = 20*np.log10((top)/(left + right))\n"
     ]
    }
   ],
   "source": [
    "# get all folder paths:\n",
    "\n",
    "# set up paths\n",
    "in_dir = \"../Raw Data/Applied Acoustics/\"\n",
    "folders = sorted(os.listdir(in_dir))\n",
    "\n",
    "# remove hidden folders\n",
    "folders = [folder for folder in folders if '.' not in folder]\n",
    "\n",
    "methods = [\"beamforming\", \"pseudo_intensity\", \"allrad_decoder\", \"allrad2_decoder\", \"mad_decoder\"]\n",
    "\n",
    "# create empty Dataframes to store results in\n",
    "TS_results = pd.DataFrame()\n",
    "TH_results = pd.DataFrame()\n",
    "delta_results = pd.DataFrame()\n",
    "\n",
    "# iterate through folders and methods\n",
    "for folder in folders:\n",
    "    print(folder)\n",
    "    path = in_dir + folder + \"/HOA/\"\n",
    "    print(path)\n",
    "    for method in methods:\n",
    "        try:\n",
    "            TS, TH = method_wrapper(method, path)\n",
    "            print(method, \"TS:\", TS, \"TH:\", TH)\n",
    "        except:\n",
    "            print(method, \"not working\")\n",
    "            TS = None\n",
    "            TH = None\n",
    "\n",
    "        # save data\n",
    "        TS_results.loc[folder, method] = TS\n",
    "        TH_results.loc[folder, method] = TH\n",
    "        try:\n",
    "            delta_results.loc[folder, method] = TS - TH\n",
    "\n",
    "        except:\n",
    "            delta_results.loc[folder, method] = None\n",
    "\n",
    "\n",
    "    print(\"\")"
   ]
  },
  {
   "cell_type": "code",
   "execution_count": 11,
   "metadata": {},
   "outputs": [],
   "source": [
    "# create out folder\n",
    "os.makedirs(\"../out\", exist_ok=True)\n",
    "\n",
    "# write dataframe to excel\n",
    "with pd.ExcelWriter('../out/results.xlsx', engine='openpyxl') as writer:\n",
    "    TS_results.to_excel(writer, sheet_name='TS')\n",
    "    TH_results.to_excel(writer, sheet_name='TH')\n",
    "    delta_results.to_excel(writer, sheet_name='delta')"
   ]
  },
  {
   "cell_type": "markdown",
   "metadata": {},
   "source": [
    "why is mad not working ???"
   ]
  }
 ],
 "metadata": {
  "kernelspec": {
   "display_name": "projVAR",
   "language": "python",
   "name": "python3"
  },
  "language_info": {
   "codemirror_mode": {
    "name": "ipython",
    "version": 3
   },
   "file_extension": ".py",
   "mimetype": "text/x-python",
   "name": "python",
   "nbconvert_exporter": "python",
   "pygments_lexer": "ipython3",
   "version": "3.11.8"
  }
 },
 "nbformat": 4,
 "nbformat_minor": 2
}
