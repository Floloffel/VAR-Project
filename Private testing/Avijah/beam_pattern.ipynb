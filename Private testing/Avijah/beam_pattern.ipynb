{
 "cells": [
  {
   "cell_type": "code",
   "execution_count": 5,
   "metadata": {},
   "outputs": [],
   "source": [
    "import numpy as np\n",
    "import matplotlib.pyplot as plt\n",
    "import spaudiopy as spa\n",
    "from pathlib import Path\n",
    "import glob"
   ]
  },
  {
   "cell_type": "code",
   "execution_count": 6,
   "metadata": {},
   "outputs": [],
   "source": [
    "# INPUT\n",
    "\n",
    "# defining Parameters\n",
    "N_sph = 1 # Ambisonics order\n",
    "fs = 48000 #??\n",
    "\n",
    "# input signal\n",
    "file_path = '/Users/viautopia/Nextcloud/Applied Acoustics/A10p/HOA/' "
   ]
  },
  {
   "cell_type": "code",
   "execution_count": 10,
   "metadata": {},
   "outputs": [],
   "source": [
    "# loading signal \n",
    "in_path = glob.glob(file_path + '*.wav')\n",
    "in_file= spa.io.load_audio(in_path)\n",
    "in_sig = in_file.get_signals()\n",
    "\n",
    "in_sig = in_sig[0:4,:]"
   ]
  },
  {
   "cell_type": "code",
   "execution_count": 12,
   "metadata": {},
   "outputs": [
    {
     "data": {
      "image/png": "[encoded data removed]",
      "text/plain": [
       "<Figure size 640x480 with 1 Axes>"
      ]
     },
     "metadata": {},
     "output_type": "display_data"
    }
   ],
   "source": [
    "# defining steering directions of the beampattern\n",
    "vec = np.array([[-1,0,0],[0,-1,0],[0,1,0],[0,0,1]]) #back, left, right, top\n",
    "\n",
    "# conversion of vec: [x,y,z] to dir: [azi, zen]\n",
    "dirs = spa.utils.vec2dir(vec) \n",
    "\n",
    "azi_steer = dirs[:,0]\n",
    "zen_steer = dirs[:,1]\n",
    "\n",
    "w_nm = spa.parsa.sh_beamformer_from_pattern('max_rE', N_sph,\n",
    "                                          azi_steer, zen_steer)\n",
    "x_nm = in_sig\n",
    "y = spa.parsa.sh_beamform(w_nm, x_nm)\n",
    "\n",
    "t = np.arange(len(y[0,:]))/fs\n",
    "\n",
    "fig, ax = plt.subplots()\n",
    "ax.plot(t, y[0,:], label = 'front', alpha=0.8)\n",
    "ax.plot(t, y[1,:], label = 'side_1', alpha= 0.8)\n",
    "ax.plot(t, y[2,:], label = 'side 2', alpha=0.8)\n",
    "ax.plot(t, y[3,:], label = 'top', alpha=0.8)\n",
    "\n",
    "plt.xlim(0,0.1)\n",
    "plt.xlabel('time in s')\n",
    "plt.ylabel('Magnitude')\n",
    "plt.legend()\n",
    "plt.show()"
   ]
  },
  {
   "cell_type": "code",
   "execution_count": 19,
   "metadata": {},
   "outputs": [],
   "source": [
    "# find sample with max amplitude for IR start\n",
    "#max_sample = np.max(in_sig, axis= 1)\n",
    "#idx_max_sample = np.argmax(in_sig, axis = 1)\n",
    "#values, counts = np.unique(idx_max_sample, return_counts = True)\n",
    "\n",
    "#ind_max_sample = values[counts.argmax()]\n",
    "#IR_start = ind_max_sample\n",
    "\n",
    "IR_start = 0\n",
    "\n",
    "start_sample = 12e-3*fs + IR_start\n",
    "duration = 50e-3*fs\n",
    "end_sample = start_sample + duration\n",
    "\n",
    "y_cutted = y[:,round(start_sample):round(end_sample)]\n",
    "\n",
    "#back, left, right, top\n",
    "\n",
    "top = np.sum(y_cutted[3,:])\n",
    "left = np.sum(y_cutted[2,:])\n",
    "right = np.sum(y_cutted[1,:])\n",
    "back = np.sum(y_cutted[0,:])"
   ]
  },
  {
   "cell_type": "code",
   "execution_count": 20,
   "metadata": {},
   "outputs": [
    {
     "name": "stdout",
     "output_type": "stream",
     "text": [
      "TS = 20.27018413468754\n",
      "TH = 47.34311742267682\n"
     ]
    }
   ],
   "source": [
    "# von Linus\n",
    "\n",
    "# Beschreibung des Parameters\n",
    "\n",
    "# TS - Top/Sides(left,right)\n",
    "\n",
    "TS = 10*np.log10((top)**2/(left + right)**2)\n",
    "print('TS = ' + str(TS))\n",
    "\n",
    "# TH - Top/Horizontal(left,right,back)\n",
    "\n",
    "TH = 10*np.log10((top)**2/(left + right + back)**2)\n",
    "print('TH = ' + str(TH))"
   ]
  }
 ],
 "metadata": {
  "kernelspec": {
   "display_name": "VAR-Project",
   "language": "python",
   "name": "python3"
  },
  "language_info": {
   "codemirror_mode": {
    "name": "ipython",
    "version": 3
   },
   "file_extension": ".py",
   "mimetype": "text/x-python",
   "name": "python",
   "nbconvert_exporter": "python",
   "pygments_lexer": "ipython3",
   "version": "3.12.2"
  }
 },
 "nbformat": 4,
 "nbformat_minor": 2
}
