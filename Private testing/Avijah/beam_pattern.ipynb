{
 "cells": [
  {
   "cell_type": "code",
   "execution_count": 41,
   "metadata": {},
   "outputs": [],
   "source": [
    "import numpy as np\n",
    "import matplotlib.pyplot as plt\n",
    "import spaudiopy as spa\n",
    "from pathlib import Path\n",
    "import glob"
   ]
  },
  {
   "cell_type": "code",
   "execution_count": 42,
   "metadata": {},
   "outputs": [],
   "source": [
    "# INPUT\n",
    "\n",
    "# defining Parameters\n",
    "N_sph = 1 # Ambisonics order\n",
    "fs = 48000 #??\n",
    "\n",
    "# input signal\n",
    "file_path = '/Users/viautopia/Nextcloud/Applied Acoustics/A10p/HOA/' "
   ]
  },
  {
   "cell_type": "code",
   "execution_count": 43,
   "metadata": {},
   "outputs": [],
   "source": [
    "# loading signal \n",
    "in_path = glob.glob(file_path + '*.wav')\n",
    "in_file= spa.io.load_audio(in_path)\n",
    "in_sig = in_file.get_signals()"
   ]
  },
  {
   "cell_type": "code",
   "execution_count": 44,
   "metadata": {},
   "outputs": [
    {
     "name": "stdout",
     "output_type": "stream",
     "text": [
      "[4.61440515 2.65065515]\n"
     ]
    }
   ],
   "source": [
    "# defining beam pattern\n",
    "w_n = spa.sph.max_rE_weights(N_sph) # for axis-symmetric beamformers (d_n in Raphaely 2019. p. 110)?\n",
    "w_n = spa.sph.unity_gain(w_n)\n",
    "\n",
    "#test\n",
    "print(w_n)\n",
    "\n",
    "# defining steering vector v_n\n",
    "# Beamforming y = d_n^T v_n"
   ]
  },
  {
   "cell_type": "code",
   "execution_count": 45,
   "metadata": {},
   "outputs": [
    {
     "ename": "ValueError",
     "evalue": "matmul: Input operand 1 has a mismatch in its core dimension 0, with gufunc signature (n?,k),(k,m?)->(n?,m?) (size 16 is different from 4)",
     "output_type": "error",
     "traceback": [
      "\u001b[0;31m---------------------------------------------------------------------------\u001b[0m",
      "\u001b[0;31mValueError\u001b[0m                                Traceback (most recent call last)",
      "Cell \u001b[0;32mIn[45], line 13\u001b[0m\n\u001b[1;32m     10\u001b[0m w_nm \u001b[38;5;241m=\u001b[39m spa\u001b[38;5;241m.\u001b[39mparsa\u001b[38;5;241m.\u001b[39msh_beamformer_from_pattern(\u001b[38;5;124m'\u001b[39m\u001b[38;5;124mmax_rE\u001b[39m\u001b[38;5;124m'\u001b[39m, N_sph,\n\u001b[1;32m     11\u001b[0m                                           azi_steer, zen_steer)\n\u001b[1;32m     12\u001b[0m x_nm \u001b[38;5;241m=\u001b[39m in_sig\n\u001b[0;32m---> 13\u001b[0m y \u001b[38;5;241m=\u001b[39m \u001b[43mspa\u001b[49m\u001b[38;5;241;43m.\u001b[39;49m\u001b[43mparsa\u001b[49m\u001b[38;5;241;43m.\u001b[39;49m\u001b[43msh_beamform\u001b[49m\u001b[43m(\u001b[49m\u001b[43mw_nm\u001b[49m\u001b[43m,\u001b[49m\u001b[43m \u001b[49m\u001b[43mx_nm\u001b[49m\u001b[43m)\u001b[49m\n\u001b[1;32m     15\u001b[0m t \u001b[38;5;241m=\u001b[39m np\u001b[38;5;241m.\u001b[39marange(\u001b[38;5;28mlen\u001b[39m(y[\u001b[38;5;241m0\u001b[39m,:]))\u001b[38;5;241m/\u001b[39mfs\n\u001b[1;32m     17\u001b[0m fig, ax \u001b[38;5;241m=\u001b[39m plt\u001b[38;5;241m.\u001b[39msubplots()\n",
      "File \u001b[0;32m~/anaconda3/envs/VAR-Project/lib/python3.12/site-packages/spaudiopy/parsa.py:124\u001b[0m, in \u001b[0;36msh_beamform\u001b[0;34m(w_nm, sig_nm)\u001b[0m\n\u001b[1;32m    122\u001b[0m \u001b[38;5;28;01mif\u001b[39;00m sig_nm\u001b[38;5;241m.\u001b[39mndim \u001b[38;5;241m==\u001b[39m \u001b[38;5;241m1\u001b[39m:\n\u001b[1;32m    123\u001b[0m     sig_nm \u001b[38;5;241m=\u001b[39m sig_nm[:, np\u001b[38;5;241m.\u001b[39mnewaxis]  \u001b[38;5;66;03m# upgrade to handle 1D arrays\u001b[39;00m\n\u001b[0;32m--> 124\u001b[0m \u001b[38;5;28;01mreturn\u001b[39;00m \u001b[43mW\u001b[49m\u001b[43m \u001b[49m\u001b[38;5;241;43m@\u001b[39;49m\u001b[43m \u001b[49m\u001b[43msig_nm\u001b[49m\n",
      "\u001b[0;31mValueError\u001b[0m: matmul: Input operand 1 has a mismatch in its core dimension 0, with gufunc signature (n?,k),(k,m?)->(n?,m?) (size 16 is different from 4)"
     ]
    }
   ],
   "source": [
    "\n",
    "# defining steering directions of the beampattern\n",
    "vec = np.array([[1,0,0],[0,-1,0],[0,1,0],[0,0,1]])\n",
    "\n",
    "# conversion of vec: [x,y,z] to dir: [azi, zen]\n",
    "dirs = spa.utils.vec2dir(vec) \n",
    "\n",
    "azi_steer = dirs[:,0]\n",
    "zen_steer = dirs[:,1]\n",
    "\n",
    "w_nm = spa.parsa.sh_beamformer_from_pattern('max_rE', N_sph,\n",
    "                                          azi_steer, zen_steer)\n",
    "x_nm = in_sig\n",
    "y = spa.parsa.sh_beamform(w_nm, x_nm)\n",
    "\n",
    "t = np.arange(len(y[0,:]))/fs\n",
    "\n",
    "fig, ax = plt.subplots()\n",
    "ax.plot(t, y[0,:])\n",
    "ax.plot(t, y[1,:])\n",
    "ax.plot(t, y[2,:])\n",
    "ax.plot(t, y[3,:])\n"
   ]
  },
  {
   "cell_type": "code",
   "execution_count": null,
   "metadata": {},
   "outputs": [],
   "source": [
    "# von Linus\n",
    "\n",
    "# Beschreibung des Parameters\n",
    "\n",
    "# TS - Top/Sides(left,right)\n",
    "\n",
    "TS = 10*np.log10((top)**2/(left + right)**2)\n",
    "print('TS = ' + str(TS))\n",
    "\n",
    "# TH - Top/Horizontal(left,right,back)\n",
    "\n",
    "TH = 10*np.log10((top)**2/(left + right + back)**2)\n",
    "print('TH = ' + str(TH))"
   ]
  }
 ],
 "metadata": {
  "kernelspec": {
   "display_name": "VAR-Project",
   "language": "python",
   "name": "python3"
  },
  "language_info": {
   "codemirror_mode": {
    "name": "ipython",
    "version": 3
   },
   "file_extension": ".py",
   "mimetype": "text/x-python",
   "name": "python",
   "nbconvert_exporter": "python",
   "pygments_lexer": "ipython3",
   "version": "3.12.2"
  }
 },
 "nbformat": 4,
 "nbformat_minor": 2
}
