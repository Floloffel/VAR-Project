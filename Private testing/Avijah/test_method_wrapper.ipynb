{
 "cells": [
  {
   "cell_type": "code",
   "execution_count": null,
   "metadata": {},
   "outputs": [],
   "source": [
    "import pandas  as pd\n",
    "import spaudiopy as spa\n",
    "import numpy as np\n",
    "import glob\n",
    "import os\n",
    "from TS_TH_from_sphere_vector import TH_TS_wrapper\n",
    "from TS_TH_from_sphere_vector import calc_TS_TH\n",
    "from TS_TH_from_beamforming import energy_from_beamforming\n",
    "\n",
    "start_milliseconds=15\n",
    "stop_milliseconds=100\n",
    "samplerate=44100\n",
    "\n",
    "in_dir = \"/Users/viautopia/Nextcloud/Applied Acoustics/\"\n",
    "folders = \"A10p\"\n",
    "path = in_dir + folders + \"/HOA/\"\n",
    "# get list of paths \n",
    "HOAS_paths = glob.glob(path + \"/*.wav\")\n",
    "# load HOAs from paths\n",
    "HOAS = spa.io.load_audio(HOAS_paths)\n",
    "energy = energy_from_beamforming(HOAS.get_signals(), start_milliseconds=start_milliseconds, stop_milliseconds=stop_milliseconds, samplerate=samplerate)\n",
    "# calc parameters\n",
    "TH, TS = calc_TS_TH(energy)\n",
    "\n",
    "print (TH, TS)"
   ]
  }
 ],
 "metadata": {
  "kernelspec": {
   "display_name": "VAR-Project",
   "language": "python",
   "name": "python3"
  },
  "language_info": {
   "name": "python",
   "version": "3.12.2"
  }
 },
 "nbformat": 4,
 "nbformat_minor": 2
}
