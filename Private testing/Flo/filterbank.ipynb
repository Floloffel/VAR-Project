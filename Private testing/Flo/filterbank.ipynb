{
 "cells": [
  {
   "cell_type": "markdown",
   "metadata": {},
   "source": [
    "Linus hat gesagt, wir (ich) sollten uns mit den Filterbanken beschäftigen."
   ]
  },
  {
   "cell_type": "code",
   "execution_count": 1,
   "metadata": {},
   "outputs": [],
   "source": [
    "# Set up\n",
    "\n",
    "import spaudiopy as spa\n",
    "import pyfar as pf\n",
    "import matplotlib.pyplot as plt\n",
    "import scipy as sp\n",
    "import numpy as np\n",
    "import soundfile as sf\n",
    "import glob\n",
    "import os\n",
    "\n",
    "# set up paths\n",
    "in_dir = \"../Raw Data/Applied Acoustics/Applied Acoustics/\"\n",
    "folders = os.listdir(in_dir)\n",
    "\n",
    "# select target folder\n",
    "folder = folders[2]\n",
    "\n",
    "# resulting path\n",
    "folder_path = in_dir + folder + \"/\"\n",
    "\n",
    "# load HOA (Higher order ambisonics)\n",
    "\n",
    "HOA_paths = glob.glob(folder_path + \"HOA\\*.wav\")\n",
    "HOA_paths = sorted(HOA_paths)\n",
    "\n",
    "\n",
    "HOAS = spa.io.load_audio(HOA_paths)"
   ]
  },
  {
   "cell_type": "markdown",
   "metadata": {},
   "source": [
    "Filterbank = räumliches Filter\n",
    "\n",
    "Paper:\n",
    "\"Spatial Filter Bank Design in the\n",
    "Spherical Harmonic Domain\"\n",
    "\n",
    "Abstract—A fairly recent development in spatial audio is\n",
    "the concept of dividing a spherical sound field into several\n",
    "directionally-constrained regions, or sectors. Therefore, the\n",
    "sphere is spatially partitioned into components that should\n",
    "ideally reconstruct the unit sphere. When distributing such\n",
    "sectors uniformly on the sphere, their set makes up a bank of\n",
    "spatial filters, i. e. a spatial filter bank. These sectors can be\n",
    "conveniently designed in the spherical harmonic domain such\n",
    "that each sector preserves the local properties of the acoustic\n",
    "energy-density. These traits have enabled recent improvements\n",
    "in the parameterization of higher-order Ambisonics, e. g. for\n",
    "spatial audio reproduction, multi-source analysis, and sound field\n",
    "visualization. However, when using a set of these sectors as a\n",
    "spatial filter bank, their spatial interaction incurs a scaling error\n",
    "if the reconstructed sound field is not properly compensated. This\n",
    "paper presents the methodology for designing a set of spatial\n",
    "filters in the spherical harmonic domain, which uniformly partition\n",
    "the sphere. Furthermore, a new corresponding compensation\n",
    "factor is derived enabling amplitude or energy preservation of\n",
    "the input sound field. This allows the implementation"
   ]
  },
  {
   "cell_type": "markdown",
   "metadata": {},
   "source": [
    "Idee:\n",
    "\n",
    "Filterbank --> räumliches Filter --> Energie räumlich begrenzt berechenen für alle \"Seiten\" --> Paramter berechnen --> Profit"
   ]
  },
  {
   "cell_type": "code",
   "execution_count": null,
   "metadata": {},
   "outputs": [],
   "source": [
    "sph_order = 3\n",
    "sector_azimuth_steering_directions = ...\n",
    "sector_zenith_steering_directions = ...\n",
    "sh_modal_weights = ...\n",
    "sh_type = [\"real\", \"complex\"][0]\n",
    "reconstruction_mode = [\"perfect\", \"energy\"][1]\n",
    "\n",
    "A, B = spa.sph.design_sph_filterbank(\n",
    "    sph_order,\n",
    "    sector_azimuth_steering_directions,\n",
    "    sector_zenith_steering_directions,\n",
    "    sh_modal_weights,\n",
    "    sh_type,\n",
    "    reconstruction_mode\n",
    "    )"
   ]
  }
 ],
 "metadata": {
  "kernelspec": {
   "display_name": "projVAR",
   "language": "python",
   "name": "python3"
  },
  "language_info": {
   "codemirror_mode": {
    "name": "ipython",
    "version": 3
   },
   "file_extension": ".py",
   "mimetype": "text/x-python",
   "name": "python",
   "nbconvert_exporter": "python",
   "pygments_lexer": "ipython3",
   "version": "3.11.8"
  }
 },
 "nbformat": 4,
 "nbformat_minor": 2
}
