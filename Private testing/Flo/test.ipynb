{
 "cells": [
  {
   "cell_type": "code",
   "execution_count": 25,
   "metadata": {},
   "outputs": [],
   "source": [
    "'''\n",
    "this is my testing playground\n",
    "please read only if you're not me - Flo :)\n",
    "'''\n",
    "\n",
    "#################################\n",
    "# Set Up\n",
    "#################################\n",
    "\n",
    "import spaudiopy as spa\n",
    "import pyfar as pf\n",
    "import matplotlib.pyplot as plt\n",
    "import scipy as sp\n",
    "import os\n",
    "import pathlib\n"
   ]
  },
  {
   "cell_type": "code",
   "execution_count": 41,
   "metadata": {},
   "outputs": [
    {
     "name": "stdout",
     "output_type": "stream",
     "text": [
      "loaded audio file\n",
      "<spaudiopy.sig.MonoSignal object at 0x000002266AC2C390>\n"
     ]
    },
    {
     "data": {
      "text/plain": [
       "<spaudiopy.sig.MonoSignal at 0x2266ac2c390>"
      ]
     },
     "execution_count": 41,
     "metadata": {},
     "output_type": "execute_result"
    }
   ],
   "source": [
    "# load audio\n",
    "\n",
    "path_in = \"..\\..\\Raw Data\\Applied Acoustics\\Applied Acoustics\\A10p\\RIR\\RIR_A10p_S00_R00.wav\"\n",
    "audio = spa.io.load_audio(path_in)\n",
    "\n",
    "print(\"loaded audio file\")\n",
    "print(audio)\n",
    "audio"
   ]
  }
 ],
 "metadata": {
  "kernelspec": {
   "display_name": "projVAR",
   "language": "python",
   "name": "python3"
  },
  "language_info": {
   "codemirror_mode": {
    "name": "ipython",
    "version": 3
   },
   "file_extension": ".py",
   "mimetype": "text/x-python",
   "name": "python",
   "nbconvert_exporter": "python",
   "pygments_lexer": "ipython3",
   "version": "3.11.8"
  }
 },
 "nbformat": 4,
 "nbformat_minor": 2
}
