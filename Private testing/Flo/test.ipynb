{
 "cells": [
  {
   "cell_type": "code",
   "execution_count": 1,
   "metadata": {},
   "outputs": [],
   "source": [
    "'''\n",
    "this is my testing playground\n",
    "please read only if you're not me - Flo :)\n",
    "'''\n",
    "\n",
    "#################################\n",
    "# Set Up\n",
    "#################################\n",
    "\n",
    "import spaudiopy as spa\n",
    "import pyfar as pf\n",
    "import matplotlib.pyplot as plt\n",
    "import scipy as sp\n",
    "import os\n",
    "import pathlib\n",
    "import glob\n"
   ]
  },
  {
   "cell_type": "code",
   "execution_count": 15,
   "metadata": {},
   "outputs": [
    {
     "name": "stdout",
     "output_type": "stream",
     "text": [
      "19 folders found\n",
      "['A10p', 'A11p', 'A20p', 'A21p', 'A30p', 'A31p', 'B10p', 'B11p', 'B20p', 'B21p', 'B30p', 'B31p', 'C10p', 'C11p', 'C20p', 'C21p', 'C30p', 'C31p', 'ORG']\n",
      "A10p as selected folder\n"
     ]
    }
   ],
   "source": [
    "# set up paths\n",
    "\n",
    "in_dir = \"../../Raw Data/Applied Acoustics/Applied Acoustics/\"\n",
    "folders = os.listdir(in_dir)\n",
    "print(len(folders), \"folders found\")\n",
    "print(folders)\n",
    "\n",
    "folder = folders[0]\n",
    "print(folder, \"as selected folder\")\n",
    "\n",
    "folder_path = in_dir + folder + \"/\""
   ]
  },
  {
   "cell_type": "code",
   "execution_count": 19,
   "metadata": {},
   "outputs": [
    {
     "name": "stdout",
     "output_type": "stream",
     "text": [
      "loaded audio file\n",
      "<spaudiopy.sig.MonoSignal object at 0x0000018C829B9D10>\n"
     ]
    },
    {
     "data": {
      "text/plain": [
       "<spaudiopy.sig.MonoSignal at 0x18c829b9d10>"
      ]
     },
     "execution_count": 19,
     "metadata": {},
     "output_type": "execute_result"
    }
   ],
   "source": [
    "# load RIR audio\n",
    "\n",
    "path_in = folder_path + \"RIR/RIR_A10p_S00_R00.wav\"\n",
    "audio = spa.io.load_audio(path_in)\n",
    "\n",
    "print(\"loaded audio file\")\n",
    "print(audio)\n",
    "audio"
   ]
  },
  {
   "cell_type": "code",
   "execution_count": 22,
   "metadata": {},
   "outputs": [
    {
     "name": "stdout",
     "output_type": "stream",
     "text": [
      "16 HOA files found\n",
      "<spaudiopy.sig.MultiSignal object at 0x0000018C82397710>\n"
     ]
    }
   ],
   "source": [
    "# load HOA (Higher order ambisonics)\n",
    "\n",
    "HOA_paths = glob.glob(folder_path + \"HOA\\*.wav\")\n",
    "print(len(HOA_paths), \"HOA files found\")\n",
    "\n",
    "HOAS = spa.io.load_audio(HOA_paths)\n",
    "print(HOAS)"
   ]
  }
 ],
 "metadata": {
  "kernelspec": {
   "display_name": "projVAR",
   "language": "python",
   "name": "python3"
  },
  "language_info": {
   "codemirror_mode": {
    "name": "ipython",
    "version": 3
   },
   "file_extension": ".py",
   "mimetype": "text/x-python",
   "name": "python",
   "nbconvert_exporter": "python",
   "pygments_lexer": "ipython3",
   "version": "3.11.8"
  }
 },
 "nbformat": 4,
 "nbformat_minor": 2
}
